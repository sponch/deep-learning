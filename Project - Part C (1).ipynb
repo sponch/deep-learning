{
 "cells": [
  {
   "cell_type": "markdown",
   "id": "2beecde0-e6b5-4124-80aa-ea2d98999dab",
   "metadata": {},
   "source": [
    "## C - Increate the number of epochs (5 marks)\n",
    "\n",
    "Repeat Part B but use 100 epochs this time for training.\n",
    "\n",
    "How does the mean of the mean squared errors compare to that from Step B?\n"
   ]
  },
  {
   "cell_type": "markdown",
   "id": "5bedab8b-37d8-4a2f-bbc1-59215029020b",
   "metadata": {},
   "source": [
    "## Steps"
   ]
  },
  {
   "cell_type": "markdown",
   "id": "485a13c2-3170-448c-82c8-0e1468e08fdb",
   "metadata": {
    "tags": []
   },
   "source": [
    "Import all the libraries"
   ]
  },
  {
   "cell_type": "code",
   "execution_count": 70,
   "id": "fd172024-11b5-4259-bcb8-73c147ba268d",
   "metadata": {
    "tags": []
   },
   "outputs": [],
   "source": [
    "import pandas as pd\n",
    "import numpy as np\n",
    "import sklearn.metrics as metrics\n",
    "from sklearn.model_selection import train_test_split\n",
    "from keras.models import Sequential\n",
    "from keras.layers import Dense\n",
    "\n",
    "import warnings\n",
    "warnings.simplefilter('ignore', FutureWarning)"
   ]
  },
  {
   "cell_type": "markdown",
   "id": "84aa2ae0-e767-4c6a-8518-af3fee11e4dd",
   "metadata": {},
   "source": [
    "## Reading the data"
   ]
  },
  {
   "cell_type": "code",
   "execution_count": 71,
   "id": "15a79299-3e3d-4a8c-a837-e7ee6e1fc0a4",
   "metadata": {
    "tags": []
   },
   "outputs": [
    {
     "data": {
      "text/html": [
       "<div>\n",
       "<style scoped>\n",
       "    .dataframe tbody tr th:only-of-type {\n",
       "        vertical-align: middle;\n",
       "    }\n",
       "\n",
       "    .dataframe tbody tr th {\n",
       "        vertical-align: top;\n",
       "    }\n",
       "\n",
       "    .dataframe thead th {\n",
       "        text-align: right;\n",
       "    }\n",
       "</style>\n",
       "<table border=\"1\" class=\"dataframe\">\n",
       "  <thead>\n",
       "    <tr style=\"text-align: right;\">\n",
       "      <th></th>\n",
       "      <th>Cement</th>\n",
       "      <th>Blast Furnace Slag</th>\n",
       "      <th>Fly Ash</th>\n",
       "      <th>Water</th>\n",
       "      <th>Superplasticizer</th>\n",
       "      <th>Coarse Aggregate</th>\n",
       "      <th>Fine Aggregate</th>\n",
       "      <th>Age</th>\n",
       "      <th>Strength</th>\n",
       "    </tr>\n",
       "  </thead>\n",
       "  <tbody>\n",
       "    <tr>\n",
       "      <th>0</th>\n",
       "      <td>540.0</td>\n",
       "      <td>0.0</td>\n",
       "      <td>0.0</td>\n",
       "      <td>162.0</td>\n",
       "      <td>2.5</td>\n",
       "      <td>1040.0</td>\n",
       "      <td>676.0</td>\n",
       "      <td>28</td>\n",
       "      <td>79.99</td>\n",
       "    </tr>\n",
       "    <tr>\n",
       "      <th>1</th>\n",
       "      <td>540.0</td>\n",
       "      <td>0.0</td>\n",
       "      <td>0.0</td>\n",
       "      <td>162.0</td>\n",
       "      <td>2.5</td>\n",
       "      <td>1055.0</td>\n",
       "      <td>676.0</td>\n",
       "      <td>28</td>\n",
       "      <td>61.89</td>\n",
       "    </tr>\n",
       "    <tr>\n",
       "      <th>2</th>\n",
       "      <td>332.5</td>\n",
       "      <td>142.5</td>\n",
       "      <td>0.0</td>\n",
       "      <td>228.0</td>\n",
       "      <td>0.0</td>\n",
       "      <td>932.0</td>\n",
       "      <td>594.0</td>\n",
       "      <td>270</td>\n",
       "      <td>40.27</td>\n",
       "    </tr>\n",
       "    <tr>\n",
       "      <th>3</th>\n",
       "      <td>332.5</td>\n",
       "      <td>142.5</td>\n",
       "      <td>0.0</td>\n",
       "      <td>228.0</td>\n",
       "      <td>0.0</td>\n",
       "      <td>932.0</td>\n",
       "      <td>594.0</td>\n",
       "      <td>365</td>\n",
       "      <td>41.05</td>\n",
       "    </tr>\n",
       "    <tr>\n",
       "      <th>4</th>\n",
       "      <td>198.6</td>\n",
       "      <td>132.4</td>\n",
       "      <td>0.0</td>\n",
       "      <td>192.0</td>\n",
       "      <td>0.0</td>\n",
       "      <td>978.4</td>\n",
       "      <td>825.5</td>\n",
       "      <td>360</td>\n",
       "      <td>44.30</td>\n",
       "    </tr>\n",
       "  </tbody>\n",
       "</table>\n",
       "</div>"
      ],
      "text/plain": [
       "   Cement  Blast Furnace Slag  Fly Ash  Water  Superplasticizer  \\\n",
       "0   540.0                 0.0      0.0  162.0               2.5   \n",
       "1   540.0                 0.0      0.0  162.0               2.5   \n",
       "2   332.5               142.5      0.0  228.0               0.0   \n",
       "3   332.5               142.5      0.0  228.0               0.0   \n",
       "4   198.6               132.4      0.0  192.0               0.0   \n",
       "\n",
       "   Coarse Aggregate  Fine Aggregate  Age  Strength  \n",
       "0            1040.0           676.0   28     79.99  \n",
       "1            1055.0           676.0   28     61.89  \n",
       "2             932.0           594.0  270     40.27  \n",
       "3             932.0           594.0  365     41.05  \n",
       "4             978.4           825.5  360     44.30  "
      ]
     },
     "execution_count": 71,
     "metadata": {},
     "output_type": "execute_result"
    }
   ],
   "source": [
    "concrete_data = pd.read_csv('https://s3-api.us-geo.objectstorage.softlayer.net/cf-courses-data/CognitiveClass/DL0101EN/labs/data/concrete_data.csv')\n",
    "concrete_data.head()"
   ]
  },
  {
   "cell_type": "markdown",
   "id": "5a989852-2a4e-4ba7-a40d-8afffd960dd7",
   "metadata": {},
   "source": [
    "#### 1. Randomly split the data into a training and test sets by holding 30% of the data for testing."
   ]
  },
  {
   "cell_type": "code",
   "execution_count": 72,
   "id": "c67ec9cf-8165-4116-b055-92842e9623e7",
   "metadata": {
    "tags": []
   },
   "outputs": [],
   "source": [
    "# Getting the features and targets\n",
    "features = concrete_data.drop(columns='Strength', axis=1)\n",
    "Y = concrete_data['Strength']\n",
    "\n",
    "features = (features - features.mean()) / features.std()\n",
    "\n",
    "n_cols = features.shape[1] # number of predictors\n",
    "\n",
    "x_train, x_test, y_train, y_test = train_test_split(features, Y, test_size=0.3)\n"
   ]
  },
  {
   "cell_type": "markdown",
   "id": "991a6d85-91c2-497a-a4cc-6eb3fb425aee",
   "metadata": {},
   "source": [
    "#### 2. Train the model on the training data using 50 epochs."
   ]
  },
  {
   "cell_type": "code",
   "execution_count": 73,
   "id": "a5d8bfd6-c46a-4d8d-aeb6-4c313024b6a7",
   "metadata": {
    "tags": []
   },
   "outputs": [
    {
     "data": {
      "text/plain": [
       "<keras.models.Sequential at 0x7fc9265b1990>"
      ]
     },
     "execution_count": 73,
     "metadata": {},
     "output_type": "execute_result"
    }
   ],
   "source": [
    "def regression_model():\n",
    "    # create model\n",
    "    model = Sequential()\n",
    "    #One hidden layer of 10 nodes, and a ReLU activation function \n",
    "    model.add(Dense(10, activation='relu', input_shape=(n_cols,))) \n",
    "    model.add(Dense(1))\n",
    "    \n",
    "    # Use the adam optimizer and the mean squared error as the loss function.\n",
    "    model.compile(optimizer='adam', loss='mean_squared_error')\n",
    "    return model\n",
    "\n",
    "model = regression_model()\n",
    "model"
   ]
  },
  {
   "cell_type": "markdown",
   "id": "a7c552bd-a7ac-428d-9afc-2dc3235a9221",
   "metadata": {},
   "source": [
    "#### 2. Train the model on the training data using 50 epochs."
   ]
  },
  {
   "cell_type": "code",
   "execution_count": 74,
   "id": "38d9e988-e442-46dd-85a0-eae91362003b",
   "metadata": {
    "tags": []
   },
   "outputs": [
    {
     "name": "stdout",
     "output_type": "stream",
     "text": [
      "Epoch 1/100\n",
      " - 0s - loss: 1606.1620\n",
      "Epoch 2/100\n",
      " - 0s - loss: 1589.5026\n",
      "Epoch 3/100\n",
      " - 0s - loss: 1573.5584\n",
      "Epoch 4/100\n",
      " - 0s - loss: 1558.2368\n",
      "Epoch 5/100\n",
      " - 0s - loss: 1543.5281\n",
      "Epoch 6/100\n",
      " - 0s - loss: 1528.4974\n",
      "Epoch 7/100\n",
      " - 0s - loss: 1514.2018\n",
      "Epoch 8/100\n",
      " - 0s - loss: 1499.5155\n",
      "Epoch 9/100\n",
      " - 0s - loss: 1485.0476\n",
      "Epoch 10/100\n",
      " - 0s - loss: 1470.6934\n",
      "Epoch 11/100\n",
      " - 0s - loss: 1455.7197\n",
      "Epoch 12/100\n",
      " - 0s - loss: 1440.9558\n",
      "Epoch 13/100\n",
      " - 0s - loss: 1425.7193\n",
      "Epoch 14/100\n",
      " - 0s - loss: 1410.3608\n",
      "Epoch 15/100\n",
      " - 0s - loss: 1394.2230\n",
      "Epoch 16/100\n",
      " - 0s - loss: 1377.8621\n",
      "Epoch 17/100\n",
      " - 0s - loss: 1360.9694\n",
      "Epoch 18/100\n",
      " - 0s - loss: 1343.1541\n",
      "Epoch 19/100\n",
      " - 0s - loss: 1324.3847\n",
      "Epoch 20/100\n",
      " - 0s - loss: 1304.7746\n",
      "Epoch 21/100\n",
      " - 0s - loss: 1283.9550\n",
      "Epoch 22/100\n",
      " - 0s - loss: 1262.1492\n",
      "Epoch 23/100\n",
      " - 0s - loss: 1239.6290\n",
      "Epoch 24/100\n",
      " - 0s - loss: 1216.5206\n",
      "Epoch 25/100\n",
      " - 0s - loss: 1191.8499\n",
      "Epoch 26/100\n",
      " - 0s - loss: 1167.1399\n",
      "Epoch 27/100\n",
      " - 0s - loss: 1141.7237\n",
      "Epoch 28/100\n",
      " - 0s - loss: 1115.6655\n",
      "Epoch 29/100\n",
      " - 0s - loss: 1089.3369\n",
      "Epoch 30/100\n",
      " - 0s - loss: 1062.5765\n",
      "Epoch 31/100\n",
      " - 0s - loss: 1035.2565\n",
      "Epoch 32/100\n",
      " - 0s - loss: 1007.7677\n",
      "Epoch 33/100\n",
      " - 0s - loss: 980.0266\n",
      "Epoch 34/100\n",
      " - 0s - loss: 950.7535\n",
      "Epoch 35/100\n",
      " - 0s - loss: 921.2539\n",
      "Epoch 36/100\n",
      " - 0s - loss: 890.2503\n",
      "Epoch 37/100\n",
      " - 0s - loss: 857.6742\n",
      "Epoch 38/100\n",
      " - 0s - loss: 824.1837\n",
      "Epoch 39/100\n",
      " - 0s - loss: 789.1738\n",
      "Epoch 40/100\n",
      " - 0s - loss: 754.0366\n",
      "Epoch 41/100\n",
      " - 0s - loss: 717.9797\n",
      "Epoch 42/100\n",
      " - 0s - loss: 682.9063\n",
      "Epoch 43/100\n",
      " - 0s - loss: 648.2434\n",
      "Epoch 44/100\n",
      " - 0s - loss: 614.4353\n",
      "Epoch 45/100\n",
      " - 0s - loss: 582.2227\n",
      "Epoch 46/100\n",
      " - 0s - loss: 551.7819\n",
      "Epoch 47/100\n",
      " - 0s - loss: 522.5946\n",
      "Epoch 48/100\n",
      " - 0s - loss: 495.2501\n",
      "Epoch 49/100\n",
      " - 0s - loss: 470.2565\n",
      "Epoch 50/100\n",
      " - 0s - loss: 446.4448\n",
      "Epoch 51/100\n",
      " - 0s - loss: 424.5766\n",
      "Epoch 52/100\n",
      " - 0s - loss: 404.8019\n",
      "Epoch 53/100\n",
      " - 0s - loss: 386.6003\n",
      "Epoch 54/100\n",
      " - 0s - loss: 369.9587\n",
      "Epoch 55/100\n",
      " - 0s - loss: 354.6628\n",
      "Epoch 56/100\n",
      " - 0s - loss: 341.1598\n",
      "Epoch 57/100\n",
      " - 0s - loss: 328.8295\n",
      "Epoch 58/100\n",
      " - 0s - loss: 317.4832\n",
      "Epoch 59/100\n",
      " - 0s - loss: 307.2919\n",
      "Epoch 60/100\n",
      " - 0s - loss: 297.9642\n",
      "Epoch 61/100\n",
      " - 0s - loss: 289.5825\n",
      "Epoch 62/100\n",
      " - 0s - loss: 282.1977\n",
      "Epoch 63/100\n",
      " - 0s - loss: 275.0679\n",
      "Epoch 64/100\n",
      " - 0s - loss: 268.7822\n",
      "Epoch 65/100\n",
      " - 0s - loss: 263.0221\n",
      "Epoch 66/100\n",
      " - 0s - loss: 257.8584\n",
      "Epoch 67/100\n",
      " - 0s - loss: 252.8055\n",
      "Epoch 68/100\n",
      " - 0s - loss: 248.2431\n",
      "Epoch 69/100\n",
      " - 0s - loss: 243.9157\n",
      "Epoch 70/100\n",
      " - 0s - loss: 239.9992\n",
      "Epoch 71/100\n",
      " - 0s - loss: 236.2325\n",
      "Epoch 72/100\n",
      " - 0s - loss: 232.7361\n",
      "Epoch 73/100\n",
      " - 0s - loss: 229.5584\n",
      "Epoch 74/100\n",
      " - 0s - loss: 226.3995\n",
      "Epoch 75/100\n",
      " - 0s - loss: 223.3339\n",
      "Epoch 76/100\n",
      " - 0s - loss: 220.5344\n",
      "Epoch 77/100\n",
      " - 0s - loss: 217.8249\n",
      "Epoch 78/100\n",
      " - 0s - loss: 215.0962\n",
      "Epoch 79/100\n",
      " - 0s - loss: 212.4850\n",
      "Epoch 80/100\n",
      " - 0s - loss: 210.1015\n",
      "Epoch 81/100\n",
      " - 0s - loss: 207.6149\n",
      "Epoch 82/100\n",
      " - 0s - loss: 205.3196\n",
      "Epoch 83/100\n",
      " - 0s - loss: 202.9513\n",
      "Epoch 84/100\n",
      " - 0s - loss: 200.8630\n",
      "Epoch 85/100\n",
      " - 0s - loss: 198.6502\n",
      "Epoch 86/100\n",
      " - 0s - loss: 196.5261\n",
      "Epoch 87/100\n",
      " - 0s - loss: 194.4662\n",
      "Epoch 88/100\n",
      " - 0s - loss: 192.5087\n",
      "Epoch 89/100\n",
      " - 0s - loss: 190.5272\n",
      "Epoch 90/100\n",
      " - 0s - loss: 188.6936\n",
      "Epoch 91/100\n",
      " - 0s - loss: 186.8561\n",
      "Epoch 92/100\n",
      " - 0s - loss: 185.1002\n",
      "Epoch 93/100\n",
      " - 0s - loss: 183.3768\n",
      "Epoch 94/100\n",
      " - 0s - loss: 181.7779\n",
      "Epoch 95/100\n",
      " - 0s - loss: 180.1634\n",
      "Epoch 96/100\n",
      " - 0s - loss: 178.6192\n",
      "Epoch 97/100\n",
      " - 0s - loss: 177.0890\n",
      "Epoch 98/100\n",
      " - 0s - loss: 175.5265\n",
      "Epoch 99/100\n",
      " - 0s - loss: 173.9944\n",
      "Epoch 100/100\n",
      " - 0s - loss: 172.5221\n"
     ]
    },
    {
     "data": {
      "text/plain": [
       "<keras.callbacks.History at 0x7fc9265b1290>"
      ]
     },
     "execution_count": 74,
     "metadata": {},
     "output_type": "execute_result"
    }
   ],
   "source": [
    "model.fit(x_train, y_train, epochs=100, verbose=2)"
   ]
  },
  {
   "cell_type": "markdown",
   "id": "9ac7c7de-722e-4ec9-84c4-3280d6022d91",
   "metadata": {},
   "source": [
    "#### 3. Evaluate the model on the test data and compute the mean squared error between the predicted concrete strength and the actual concrete strength."
   ]
  },
  {
   "cell_type": "code",
   "execution_count": 75,
   "id": "dac4db75-f1e0-4bc0-a2de-74a79833bddd",
   "metadata": {
    "tags": []
   },
   "outputs": [
    {
     "name": "stdout",
     "output_type": "stream",
     "text": [
      "10.273411053160634\n"
     ]
    }
   ],
   "source": [
    "predictions = model.predict(x_test)\n",
    "MAE =  metrics.mean_absolute_error(y_test, predictions)\n",
    "print(MAE)"
   ]
  },
  {
   "cell_type": "markdown",
   "id": "5b73f21f-5e93-4fee-a3b5-ddaeb14a0d0b",
   "metadata": {},
   "source": [
    "#### 4. Repeat steps 1 - 3, 50 times, i.e., create a list of 50 mean squared errors."
   ]
  },
  {
   "cell_type": "code",
   "execution_count": 76,
   "id": "6addd9c1-b785-433d-b8d2-c6bd076d2f87",
   "metadata": {
    "tags": []
   },
   "outputs": [
    {
     "name": "stdout",
     "output_type": "stream",
     "text": [
      "[8.782706684248346, 7.481691717252761, 7.201178205669119, 6.725530685251972, 6.466754623956279, 5.930085263545458, 5.514442297926227, 4.675257983037954, 4.995790659956947, 4.52508355396851, 4.8306659787372475, 4.763102711489286, 4.633209350919261, 4.662801941127839, 4.7063340701563074, 4.7734120590555635, 4.754899317423503, 4.741424530300893, 4.540023520015977, 4.232107414072771, 4.564791384576594, 4.732657494406098, 4.339123276213613, 4.525910980817184, 4.761543003687195, 4.537335615682756, 4.760456997183149, 4.554061974213734, 4.6413504888787624, 4.840275195161888, 4.519396685195972, 4.35927735325588, 4.552158611198846, 4.550830312870853, 4.440340799097104, 4.582664109140539, 4.448828945715451, 4.603360410153288, 4.531434761714009, 4.659254634202877, 4.513832569616126, 4.737096675946874, 4.79272999328317, 4.646631975389993, 4.524804813422045, 4.525849603634436, 4.593624059930203, 4.7721074971566315, 4.625599689730548, 4.40292961676144]\n"
     ]
    }
   ],
   "source": [
    "MAEs = []\n",
    "for n in range(50): \n",
    "    x_train, x_test, y_train, y_test = train_test_split(features, Y, test_size=0.3)\n",
    "    model.fit(x_train, y_train, epochs=50, verbose=0)\n",
    "    predictions = model.predict(x_test)\n",
    "    MAEs.append(metrics.mean_absolute_error(y_test, predictions))\n",
    "    \n",
    "print(MAEs)    "
   ]
  },
  {
   "cell_type": "markdown",
   "id": "b47c3bbc-3c48-4c76-a26b-44b1b4621446",
   "metadata": {
    "tags": []
   },
   "source": [
    "#### 5. Report the mean and the standard deviation of the mean squared errors."
   ]
  },
  {
   "cell_type": "code",
   "execution_count": 77,
   "id": "fa5b37e1-3123-4c80-8cc4-c53610bdb262",
   "metadata": {
    "tags": []
   },
   "outputs": [
    {
     "name": "stdout",
     "output_type": "stream",
     "text": [
      "Mean of mean squared errors:4.931535241926989 \n",
      "Standard deviation of mean squared errors:0.8790470154158412 \n"
     ]
    }
   ],
   "source": [
    "np_array = np.array(MAEs)\n",
    "print(f\"Mean of mean squared errors:{np.mean(np_array)} \")\n",
    "print(f\"Standard deviation of mean squared errors:{np.std(np_array)} \")"
   ]
  },
  {
   "cell_type": "markdown",
   "id": "bd8d3877-178d-4813-971e-602f2ac31b63",
   "metadata": {},
   "source": [
    "### How does the mean of the mean squared errors compare to that from Step B?\n"
   ]
  },
  {
   "cell_type": "markdown",
   "id": "7f19f51f-9c32-4a02-983d-27bf4186dc2a",
   "metadata": {},
   "source": [
    "Step A:\n",
    "\n",
    "- Mean of mean squared errors:5.57246862771433 \n",
    "- Standard deviation of mean squared errors:0.7217945033478287 \n",
    "\n",
    "Step B:\n",
    " - Mean of mean squared errors:5.718177185425865 \n",
    " - Standard deviation of mean squared errors:1.2205812457213703 \n",
    " \n",
    "Step C\n",
    " - Mean of mean squared errors:4.931535241926989 \n",
    " - Standard deviation of mean squared errors:0.8790470154158412 \n",
    "\n",
    "Step C reduced a little the mean of mean squared errors and standard deviation if compared with B"
   ]
  },
  {
   "cell_type": "code",
   "execution_count": null,
   "id": "aaab1540-72a5-4456-9882-c403c44df41a",
   "metadata": {},
   "outputs": [],
   "source": []
  }
 ],
 "metadata": {
  "kernelspec": {
   "display_name": "Python",
   "language": "python",
   "name": "conda-env-python-py"
  },
  "language_info": {
   "codemirror_mode": {
    "name": "ipython",
    "version": 3
   },
   "file_extension": ".py",
   "mimetype": "text/x-python",
   "name": "python",
   "nbconvert_exporter": "python",
   "pygments_lexer": "ipython3",
   "version": "3.7.12"
  }
 },
 "nbformat": 4,
 "nbformat_minor": 5
}
