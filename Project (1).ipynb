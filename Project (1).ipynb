{
 "cells": [
  {
   "cell_type": "markdown",
   "id": "2beecde0-e6b5-4124-80aa-ea2d98999dab",
   "metadata": {},
   "source": [
    "## D. Increase the number of hidden layers (5 marks)\n",
    "\n",
    "Repeat part B but use a neural network with the following instead:\n",
    "\n",
    "- Three hidden layers, each of 10 nodes and ReLU activation function.\n",
    "\n",
    "How does the mean of the mean squared errors compare to that from Step B?\n"
   ]
  },
  {
   "cell_type": "markdown",
   "id": "5bedab8b-37d8-4a2f-bbc1-59215029020b",
   "metadata": {},
   "source": [
    "## Steps"
   ]
  },
  {
   "cell_type": "markdown",
   "id": "485a13c2-3170-448c-82c8-0e1468e08fdb",
   "metadata": {
    "tags": []
   },
   "source": [
    "Import all the libraries"
   ]
  },
  {
   "cell_type": "code",
   "execution_count": 78,
   "id": "fd172024-11b5-4259-bcb8-73c147ba268d",
   "metadata": {
    "tags": []
   },
   "outputs": [],
   "source": [
    "import pandas as pd\n",
    "import numpy as np\n",
    "import sklearn.metrics as metrics\n",
    "from sklearn.model_selection import train_test_split\n",
    "from keras.models import Sequential\n",
    "from keras.layers import Dense\n",
    "\n",
    "import warnings\n",
    "warnings.simplefilter('ignore', FutureWarning)"
   ]
  },
  {
   "cell_type": "markdown",
   "id": "84aa2ae0-e767-4c6a-8518-af3fee11e4dd",
   "metadata": {},
   "source": [
    "## Reading the data"
   ]
  },
  {
   "cell_type": "code",
   "execution_count": 79,
   "id": "15a79299-3e3d-4a8c-a837-e7ee6e1fc0a4",
   "metadata": {
    "tags": []
   },
   "outputs": [
    {
     "data": {
      "text/html": [
       "<div>\n",
       "<style scoped>\n",
       "    .dataframe tbody tr th:only-of-type {\n",
       "        vertical-align: middle;\n",
       "    }\n",
       "\n",
       "    .dataframe tbody tr th {\n",
       "        vertical-align: top;\n",
       "    }\n",
       "\n",
       "    .dataframe thead th {\n",
       "        text-align: right;\n",
       "    }\n",
       "</style>\n",
       "<table border=\"1\" class=\"dataframe\">\n",
       "  <thead>\n",
       "    <tr style=\"text-align: right;\">\n",
       "      <th></th>\n",
       "      <th>Cement</th>\n",
       "      <th>Blast Furnace Slag</th>\n",
       "      <th>Fly Ash</th>\n",
       "      <th>Water</th>\n",
       "      <th>Superplasticizer</th>\n",
       "      <th>Coarse Aggregate</th>\n",
       "      <th>Fine Aggregate</th>\n",
       "      <th>Age</th>\n",
       "      <th>Strength</th>\n",
       "    </tr>\n",
       "  </thead>\n",
       "  <tbody>\n",
       "    <tr>\n",
       "      <th>0</th>\n",
       "      <td>540.0</td>\n",
       "      <td>0.0</td>\n",
       "      <td>0.0</td>\n",
       "      <td>162.0</td>\n",
       "      <td>2.5</td>\n",
       "      <td>1040.0</td>\n",
       "      <td>676.0</td>\n",
       "      <td>28</td>\n",
       "      <td>79.99</td>\n",
       "    </tr>\n",
       "    <tr>\n",
       "      <th>1</th>\n",
       "      <td>540.0</td>\n",
       "      <td>0.0</td>\n",
       "      <td>0.0</td>\n",
       "      <td>162.0</td>\n",
       "      <td>2.5</td>\n",
       "      <td>1055.0</td>\n",
       "      <td>676.0</td>\n",
       "      <td>28</td>\n",
       "      <td>61.89</td>\n",
       "    </tr>\n",
       "    <tr>\n",
       "      <th>2</th>\n",
       "      <td>332.5</td>\n",
       "      <td>142.5</td>\n",
       "      <td>0.0</td>\n",
       "      <td>228.0</td>\n",
       "      <td>0.0</td>\n",
       "      <td>932.0</td>\n",
       "      <td>594.0</td>\n",
       "      <td>270</td>\n",
       "      <td>40.27</td>\n",
       "    </tr>\n",
       "    <tr>\n",
       "      <th>3</th>\n",
       "      <td>332.5</td>\n",
       "      <td>142.5</td>\n",
       "      <td>0.0</td>\n",
       "      <td>228.0</td>\n",
       "      <td>0.0</td>\n",
       "      <td>932.0</td>\n",
       "      <td>594.0</td>\n",
       "      <td>365</td>\n",
       "      <td>41.05</td>\n",
       "    </tr>\n",
       "    <tr>\n",
       "      <th>4</th>\n",
       "      <td>198.6</td>\n",
       "      <td>132.4</td>\n",
       "      <td>0.0</td>\n",
       "      <td>192.0</td>\n",
       "      <td>0.0</td>\n",
       "      <td>978.4</td>\n",
       "      <td>825.5</td>\n",
       "      <td>360</td>\n",
       "      <td>44.30</td>\n",
       "    </tr>\n",
       "  </tbody>\n",
       "</table>\n",
       "</div>"
      ],
      "text/plain": [
       "   Cement  Blast Furnace Slag  Fly Ash  Water  Superplasticizer  \\\n",
       "0   540.0                 0.0      0.0  162.0               2.5   \n",
       "1   540.0                 0.0      0.0  162.0               2.5   \n",
       "2   332.5               142.5      0.0  228.0               0.0   \n",
       "3   332.5               142.5      0.0  228.0               0.0   \n",
       "4   198.6               132.4      0.0  192.0               0.0   \n",
       "\n",
       "   Coarse Aggregate  Fine Aggregate  Age  Strength  \n",
       "0            1040.0           676.0   28     79.99  \n",
       "1            1055.0           676.0   28     61.89  \n",
       "2             932.0           594.0  270     40.27  \n",
       "3             932.0           594.0  365     41.05  \n",
       "4             978.4           825.5  360     44.30  "
      ]
     },
     "execution_count": 79,
     "metadata": {},
     "output_type": "execute_result"
    }
   ],
   "source": [
    "concrete_data = pd.read_csv('https://s3-api.us-geo.objectstorage.softlayer.net/cf-courses-data/CognitiveClass/DL0101EN/labs/data/concrete_data.csv')\n",
    "concrete_data.head()"
   ]
  },
  {
   "cell_type": "markdown",
   "id": "5a989852-2a4e-4ba7-a40d-8afffd960dd7",
   "metadata": {},
   "source": [
    "#### 1. Randomly split the data into a training and test sets by holding 30% of the data for testing."
   ]
  },
  {
   "cell_type": "code",
   "execution_count": 80,
   "id": "c67ec9cf-8165-4116-b055-92842e9623e7",
   "metadata": {
    "tags": []
   },
   "outputs": [],
   "source": [
    "# Getting the features and targets\n",
    "features = concrete_data.drop(columns='Strength', axis=1)\n",
    "Y = concrete_data['Strength']\n",
    "\n",
    "features = (features - features.mean()) / features.std()\n",
    "\n",
    "n_cols = features.shape[1] # number of predictors\n",
    "\n",
    "x_train, x_test, y_train, y_test = train_test_split(features, Y, test_size=0.3)\n"
   ]
  },
  {
   "cell_type": "markdown",
   "id": "991a6d85-91c2-497a-a4cc-6eb3fb425aee",
   "metadata": {},
   "source": [
    "#### 2. Train the model on the training data using 50 epochs."
   ]
  },
  {
   "cell_type": "code",
   "execution_count": 81,
   "id": "a5d8bfd6-c46a-4d8d-aeb6-4c313024b6a7",
   "metadata": {
    "tags": []
   },
   "outputs": [
    {
     "data": {
      "text/plain": [
       "<keras.models.Sequential at 0x7fc9263c56d0>"
      ]
     },
     "execution_count": 81,
     "metadata": {},
     "output_type": "execute_result"
    }
   ],
   "source": [
    "def regression_model():\n",
    "    # create model\n",
    "    model = Sequential()\n",
    "    #One hidden layer of 10 nodes, and a ReLU activation function \n",
    "    model.add(Dense(10, activation='relu', input_shape=(n_cols,)))\n",
    "    model.add(Dense(10, activation='relu', input_shape=(n_cols,)))\n",
    "    model.add(Dense(10, activation='relu', input_shape=(n_cols,)))\n",
    "    model.add(Dense(1))\n",
    "    \n",
    "    # Use the adam optimizer and the mean squared error as the loss function.\n",
    "    model.compile(optimizer='adam', loss='mean_squared_error')\n",
    "    return model\n",
    "\n",
    "model = regression_model()\n",
    "model"
   ]
  },
  {
   "cell_type": "markdown",
   "id": "a7c552bd-a7ac-428d-9afc-2dc3235a9221",
   "metadata": {},
   "source": [
    "#### 2. Train the model on the training data using 50 epochs."
   ]
  },
  {
   "cell_type": "code",
   "execution_count": 82,
   "id": "38d9e988-e442-46dd-85a0-eae91362003b",
   "metadata": {
    "tags": []
   },
   "outputs": [
    {
     "name": "stdout",
     "output_type": "stream",
     "text": [
      "Epoch 1/100\n",
      " - 1s - loss: 1488.6574\n",
      "Epoch 2/100\n",
      " - 0s - loss: 1442.3837\n",
      "Epoch 3/100\n",
      " - 0s - loss: 1374.2357\n",
      "Epoch 4/100\n",
      " - 0s - loss: 1272.6569\n",
      "Epoch 5/100\n",
      " - 0s - loss: 1130.5918\n",
      "Epoch 6/100\n",
      " - 0s - loss: 955.3693\n",
      "Epoch 7/100\n",
      " - 0s - loss: 757.1256\n",
      "Epoch 8/100\n",
      " - 0s - loss: 563.9981\n",
      "Epoch 9/100\n",
      " - 0s - loss: 409.0752\n",
      "Epoch 10/100\n",
      " - 0s - loss: 308.3321\n",
      "Epoch 11/100\n",
      " - 0s - loss: 255.8955\n",
      "Epoch 12/100\n",
      " - 0s - loss: 232.5622\n",
      "Epoch 13/100\n",
      " - 0s - loss: 215.1094\n",
      "Epoch 14/100\n",
      " - 0s - loss: 203.8705\n",
      "Epoch 15/100\n",
      " - 0s - loss: 195.1585\n",
      "Epoch 16/100\n",
      " - 0s - loss: 188.6652\n",
      "Epoch 17/100\n",
      " - 0s - loss: 183.0311\n",
      "Epoch 18/100\n",
      " - 0s - loss: 178.4899\n",
      "Epoch 19/100\n",
      " - 0s - loss: 173.9785\n",
      "Epoch 20/100\n",
      " - 0s - loss: 170.2786\n",
      "Epoch 21/100\n",
      " - 0s - loss: 167.1161\n",
      "Epoch 22/100\n",
      " - 0s - loss: 164.0402\n",
      "Epoch 23/100\n",
      " - 0s - loss: 161.5789\n",
      "Epoch 24/100\n",
      " - 0s - loss: 159.0643\n",
      "Epoch 25/100\n",
      " - 0s - loss: 156.4941\n",
      "Epoch 26/100\n",
      " - 0s - loss: 154.4564\n",
      "Epoch 27/100\n",
      " - 0s - loss: 152.6107\n",
      "Epoch 28/100\n",
      " - 0s - loss: 150.8109\n",
      "Epoch 29/100\n",
      " - 0s - loss: 148.7690\n",
      "Epoch 30/100\n",
      " - 0s - loss: 147.2216\n",
      "Epoch 31/100\n",
      " - 0s - loss: 145.2351\n",
      "Epoch 32/100\n",
      " - 0s - loss: 143.7747\n",
      "Epoch 33/100\n",
      " - 0s - loss: 142.6588\n",
      "Epoch 34/100\n",
      " - 0s - loss: 141.1449\n",
      "Epoch 35/100\n",
      " - 0s - loss: 140.0326\n",
      "Epoch 36/100\n",
      " - 0s - loss: 138.8837\n",
      "Epoch 37/100\n",
      " - 0s - loss: 137.9914\n",
      "Epoch 38/100\n",
      " - 0s - loss: 136.5126\n",
      "Epoch 39/100\n",
      " - 0s - loss: 135.7929\n",
      "Epoch 40/100\n",
      " - 0s - loss: 134.6134\n",
      "Epoch 41/100\n",
      " - 0s - loss: 133.7676\n",
      "Epoch 42/100\n",
      " - 0s - loss: 132.5725\n",
      "Epoch 43/100\n",
      " - 0s - loss: 131.7109\n",
      "Epoch 44/100\n",
      " - 0s - loss: 131.0557\n",
      "Epoch 45/100\n",
      " - 0s - loss: 130.6816\n",
      "Epoch 46/100\n",
      " - 0s - loss: 130.1496\n",
      "Epoch 47/100\n",
      " - 0s - loss: 129.3773\n",
      "Epoch 48/100\n",
      " - 0s - loss: 128.5196\n",
      "Epoch 49/100\n",
      " - 0s - loss: 128.3005\n",
      "Epoch 50/100\n",
      " - 0s - loss: 127.5229\n",
      "Epoch 51/100\n",
      " - 0s - loss: 126.7180\n",
      "Epoch 52/100\n",
      " - 0s - loss: 126.9534\n",
      "Epoch 53/100\n",
      " - 0s - loss: 125.4921\n",
      "Epoch 54/100\n",
      " - 0s - loss: 125.5305\n",
      "Epoch 55/100\n",
      " - 0s - loss: 124.2719\n",
      "Epoch 56/100\n",
      " - 0s - loss: 124.0765\n",
      "Epoch 57/100\n",
      " - 0s - loss: 123.3912\n",
      "Epoch 58/100\n",
      " - 0s - loss: 123.3726\n",
      "Epoch 59/100\n",
      " - 0s - loss: 122.9271\n",
      "Epoch 60/100\n",
      " - 0s - loss: 121.9841\n",
      "Epoch 61/100\n",
      " - 0s - loss: 121.0679\n",
      "Epoch 62/100\n",
      " - 0s - loss: 120.4572\n",
      "Epoch 63/100\n",
      " - 0s - loss: 119.6675\n",
      "Epoch 64/100\n",
      " - 0s - loss: 118.9219\n",
      "Epoch 65/100\n",
      " - 0s - loss: 118.4114\n",
      "Epoch 66/100\n",
      " - 0s - loss: 117.3276\n",
      "Epoch 67/100\n",
      " - 0s - loss: 116.6280\n",
      "Epoch 68/100\n",
      " - 0s - loss: 115.8296\n",
      "Epoch 69/100\n",
      " - 0s - loss: 115.1921\n",
      "Epoch 70/100\n",
      " - 0s - loss: 114.4742\n",
      "Epoch 71/100\n",
      " - 0s - loss: 113.9803\n",
      "Epoch 72/100\n",
      " - 0s - loss: 112.7485\n",
      "Epoch 73/100\n",
      " - 0s - loss: 112.2626\n",
      "Epoch 74/100\n",
      " - 0s - loss: 111.4311\n",
      "Epoch 75/100\n",
      " - 0s - loss: 110.5820\n",
      "Epoch 76/100\n",
      " - 0s - loss: 109.8157\n",
      "Epoch 77/100\n",
      " - 0s - loss: 109.2089\n",
      "Epoch 78/100\n",
      " - 0s - loss: 108.3559\n",
      "Epoch 79/100\n",
      " - 0s - loss: 107.5822\n",
      "Epoch 80/100\n",
      " - 0s - loss: 106.4646\n",
      "Epoch 81/100\n",
      " - 0s - loss: 106.0214\n",
      "Epoch 82/100\n",
      " - 0s - loss: 105.3351\n",
      "Epoch 83/100\n",
      " - 0s - loss: 103.8603\n",
      "Epoch 84/100\n",
      " - 0s - loss: 103.0923\n",
      "Epoch 85/100\n",
      " - 0s - loss: 102.3324\n",
      "Epoch 86/100\n",
      " - 0s - loss: 101.6680\n",
      "Epoch 87/100\n",
      " - 0s - loss: 101.1546\n",
      "Epoch 88/100\n",
      " - 0s - loss: 99.5753\n",
      "Epoch 89/100\n",
      " - 0s - loss: 99.1789\n",
      "Epoch 90/100\n",
      " - 0s - loss: 97.9539\n",
      "Epoch 91/100\n",
      " - 0s - loss: 97.2692\n",
      "Epoch 92/100\n",
      " - 0s - loss: 96.4573\n",
      "Epoch 93/100\n",
      " - 0s - loss: 95.0057\n",
      "Epoch 94/100\n",
      " - 0s - loss: 94.4103\n",
      "Epoch 95/100\n",
      " - 0s - loss: 93.3285\n",
      "Epoch 96/100\n",
      " - 0s - loss: 92.2518\n",
      "Epoch 97/100\n",
      " - 0s - loss: 91.1271\n",
      "Epoch 98/100\n",
      " - 0s - loss: 90.5840\n",
      "Epoch 99/100\n",
      " - 0s - loss: 89.5495\n",
      "Epoch 100/100\n",
      " - 0s - loss: 88.6578\n"
     ]
    },
    {
     "data": {
      "text/plain": [
       "<keras.callbacks.History at 0x7fc92705f790>"
      ]
     },
     "execution_count": 82,
     "metadata": {},
     "output_type": "execute_result"
    }
   ],
   "source": [
    "model.fit(x_train, y_train, epochs=100, verbose=2)"
   ]
  },
  {
   "cell_type": "markdown",
   "id": "9ac7c7de-722e-4ec9-84c4-3280d6022d91",
   "metadata": {},
   "source": [
    "#### 3. Evaluate the model on the test data and compute the mean squared error between the predicted concrete strength and the actual concrete strength."
   ]
  },
  {
   "cell_type": "code",
   "execution_count": 83,
   "id": "dac4db75-f1e0-4bc0-a2de-74a79833bddd",
   "metadata": {
    "tags": []
   },
   "outputs": [
    {
     "name": "stdout",
     "output_type": "stream",
     "text": [
      "7.975386483152322\n"
     ]
    }
   ],
   "source": [
    "predictions = model.predict(x_test)\n",
    "MAE =  metrics.mean_absolute_error(y_test, predictions)\n",
    "print(MAE)"
   ]
  },
  {
   "cell_type": "markdown",
   "id": "5b73f21f-5e93-4fee-a3b5-ddaeb14a0d0b",
   "metadata": {},
   "source": [
    "#### 4. Repeat steps 1 - 3, 50 times, i.e., create a list of 50 mean squared errors."
   ]
  },
  {
   "cell_type": "code",
   "execution_count": 84,
   "id": "6addd9c1-b785-433d-b8d2-c6bd076d2f87",
   "metadata": {
    "tags": []
   },
   "outputs": [
    {
     "name": "stdout",
     "output_type": "stream",
     "text": [
      "[5.3126254665041435, 4.944411728374395, 4.780841490674559, 4.848509130014957, 4.985573995028499, 4.637996351865503, 4.819420279715825, 4.666688535375502, 4.399531115312793, 4.5437654816525646, 4.259345525352701, 4.149573304259661, 4.402319552381448, 4.0729418742232335, 3.84804248473405, 3.9179027430833733, 4.03941424132165, 4.230937591416936, 3.657551345053614, 3.6907517970804253, 3.848560000931946, 4.03372379488158, 3.944765863017357, 3.5519373343754745, 3.733020334614133, 3.754452292556516, 3.6346179798583, 3.5480513513435437, 3.2676643612315353, 3.4817009971211252, 3.847634152501918, 3.59821777590656, 3.587927431396682, 3.513110032066172, 3.4340079745196985, 3.247796299388107, 3.5059763659319834, 3.652175245470213, 3.478357217967703, 3.4429133451023537, 3.242886947088643, 3.272076534715671, 3.075155461752685, 3.7607078842360613, 3.6441966590140633, 3.5412102751438677, 3.3354231769598806, 3.580364490681868, 3.257196279852907, 3.197019080313278]\n"
     ]
    }
   ],
   "source": [
    "MAEs = []\n",
    "for n in range(50): \n",
    "    x_train, x_test, y_train, y_test = train_test_split(features, Y, test_size=0.3)\n",
    "    model.fit(x_train, y_train, epochs=50, verbose=0)\n",
    "    predictions = model.predict(x_test)\n",
    "    MAEs.append(metrics.mean_absolute_error(y_test, predictions))\n",
    "    \n",
    "print(MAEs)    "
   ]
  },
  {
   "cell_type": "markdown",
   "id": "b47c3bbc-3c48-4c76-a26b-44b1b4621446",
   "metadata": {
    "tags": []
   },
   "source": [
    "#### 5. Report the mean and the standard deviation of the mean squared errors."
   ]
  },
  {
   "cell_type": "code",
   "execution_count": 85,
   "id": "fa5b37e1-3123-4c80-8cc4-c53610bdb262",
   "metadata": {
    "tags": []
   },
   "outputs": [
    {
     "name": "stdout",
     "output_type": "stream",
     "text": [
      "Mean of mean squared errors:3.8844198194673534 \n",
      "Standard deviation of mean squared errors:0.5454374320997948 \n"
     ]
    }
   ],
   "source": [
    "np_array = np.array(MAEs)\n",
    "print(f\"Mean of mean squared errors:{np.mean(np_array)} \")\n",
    "print(f\"Standard deviation of mean squared errors:{np.std(np_array)} \")"
   ]
  },
  {
   "cell_type": "markdown",
   "id": "bd8d3877-178d-4813-971e-602f2ac31b63",
   "metadata": {},
   "source": [
    "### How does the mean of the mean squared errors compare to that from Step B?\n"
   ]
  },
  {
   "cell_type": "markdown",
   "id": "7f19f51f-9c32-4a02-983d-27bf4186dc2a",
   "metadata": {},
   "source": [
    "Step A:\n",
    "\n",
    "- Mean of mean squared errors:5.57246862771433 \n",
    "- Standard deviation of mean squared errors:0.7217945033478287 \n",
    "\n",
    "Step B:\n",
    " - Mean of mean squared errors:5.718177185425865 \n",
    " - Standard deviation of mean squared errors:1.2205812457213703 \n",
    " \n",
    "Step C\n",
    " - Mean of mean squared errors:4.931535241926989 \n",
    " - Standard deviation of mean squared errors:0.8790470154158412 \n",
    " \n",
    "Step D\n",
    " - Mean of mean squared errors:3.8844198194673534 \n",
    " - Standard deviation of mean squared errors:0.5454374320997948 \n",
    "\n",
    "Step D is a lot better if compared with Step B, with reduced mean and std deviation"
   ]
  },
  {
   "cell_type": "code",
   "execution_count": null,
   "id": "aaab1540-72a5-4456-9882-c403c44df41a",
   "metadata": {},
   "outputs": [],
   "source": []
  }
 ],
 "metadata": {
  "kernelspec": {
   "display_name": "Python",
   "language": "python",
   "name": "conda-env-python-py"
  },
  "language_info": {
   "codemirror_mode": {
    "name": "ipython",
    "version": 3
   },
   "file_extension": ".py",
   "mimetype": "text/x-python",
   "name": "python",
   "nbconvert_exporter": "python",
   "pygments_lexer": "ipython3",
   "version": "3.7.12"
  }
 },
 "nbformat": 4,
 "nbformat_minor": 5
}
