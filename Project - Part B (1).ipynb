{
 "cells": [
  {
   "cell_type": "markdown",
   "id": "2beecde0-e6b5-4124-80aa-ea2d98999dab",
   "metadata": {},
   "source": [
    "## B. Normalize the data (5 marks) \n",
    "\n",
    "Repeat Part A but use a normalized version of the data. Recall that one way to normalize the data is by subtracting the mean from the individual predictors and dividing by the standard deviation.\n",
    "\n",
    "How does the mean of the mean squared errors compare to that from Step A?\n",
    "\n",
    "\n",
    "Submit your Jupyter Notebook with your code and comments.\n"
   ]
  },
  {
   "cell_type": "markdown",
   "id": "5bedab8b-37d8-4a2f-bbc1-59215029020b",
   "metadata": {},
   "source": [
    "## Steps"
   ]
  },
  {
   "cell_type": "markdown",
   "id": "485a13c2-3170-448c-82c8-0e1468e08fdb",
   "metadata": {
    "tags": []
   },
   "source": [
    "Import all the libraries"
   ]
  },
  {
   "cell_type": "code",
   "execution_count": 58,
   "id": "fd172024-11b5-4259-bcb8-73c147ba268d",
   "metadata": {
    "tags": []
   },
   "outputs": [],
   "source": [
    "import pandas as pd\n",
    "import numpy as np\n",
    "import sklearn.metrics as metrics\n",
    "from sklearn.model_selection import train_test_split\n",
    "from keras.models import Sequential\n",
    "from keras.layers import Dense\n",
    "\n",
    "import warnings\n",
    "warnings.simplefilter('ignore', FutureWarning)"
   ]
  },
  {
   "cell_type": "markdown",
   "id": "84aa2ae0-e767-4c6a-8518-af3fee11e4dd",
   "metadata": {},
   "source": [
    "## Reading the data"
   ]
  },
  {
   "cell_type": "code",
   "execution_count": 59,
   "id": "15a79299-3e3d-4a8c-a837-e7ee6e1fc0a4",
   "metadata": {
    "tags": []
   },
   "outputs": [
    {
     "data": {
      "text/html": [
       "<div>\n",
       "<style scoped>\n",
       "    .dataframe tbody tr th:only-of-type {\n",
       "        vertical-align: middle;\n",
       "    }\n",
       "\n",
       "    .dataframe tbody tr th {\n",
       "        vertical-align: top;\n",
       "    }\n",
       "\n",
       "    .dataframe thead th {\n",
       "        text-align: right;\n",
       "    }\n",
       "</style>\n",
       "<table border=\"1\" class=\"dataframe\">\n",
       "  <thead>\n",
       "    <tr style=\"text-align: right;\">\n",
       "      <th></th>\n",
       "      <th>Cement</th>\n",
       "      <th>Blast Furnace Slag</th>\n",
       "      <th>Fly Ash</th>\n",
       "      <th>Water</th>\n",
       "      <th>Superplasticizer</th>\n",
       "      <th>Coarse Aggregate</th>\n",
       "      <th>Fine Aggregate</th>\n",
       "      <th>Age</th>\n",
       "      <th>Strength</th>\n",
       "    </tr>\n",
       "  </thead>\n",
       "  <tbody>\n",
       "    <tr>\n",
       "      <th>0</th>\n",
       "      <td>540.0</td>\n",
       "      <td>0.0</td>\n",
       "      <td>0.0</td>\n",
       "      <td>162.0</td>\n",
       "      <td>2.5</td>\n",
       "      <td>1040.0</td>\n",
       "      <td>676.0</td>\n",
       "      <td>28</td>\n",
       "      <td>79.99</td>\n",
       "    </tr>\n",
       "    <tr>\n",
       "      <th>1</th>\n",
       "      <td>540.0</td>\n",
       "      <td>0.0</td>\n",
       "      <td>0.0</td>\n",
       "      <td>162.0</td>\n",
       "      <td>2.5</td>\n",
       "      <td>1055.0</td>\n",
       "      <td>676.0</td>\n",
       "      <td>28</td>\n",
       "      <td>61.89</td>\n",
       "    </tr>\n",
       "    <tr>\n",
       "      <th>2</th>\n",
       "      <td>332.5</td>\n",
       "      <td>142.5</td>\n",
       "      <td>0.0</td>\n",
       "      <td>228.0</td>\n",
       "      <td>0.0</td>\n",
       "      <td>932.0</td>\n",
       "      <td>594.0</td>\n",
       "      <td>270</td>\n",
       "      <td>40.27</td>\n",
       "    </tr>\n",
       "    <tr>\n",
       "      <th>3</th>\n",
       "      <td>332.5</td>\n",
       "      <td>142.5</td>\n",
       "      <td>0.0</td>\n",
       "      <td>228.0</td>\n",
       "      <td>0.0</td>\n",
       "      <td>932.0</td>\n",
       "      <td>594.0</td>\n",
       "      <td>365</td>\n",
       "      <td>41.05</td>\n",
       "    </tr>\n",
       "    <tr>\n",
       "      <th>4</th>\n",
       "      <td>198.6</td>\n",
       "      <td>132.4</td>\n",
       "      <td>0.0</td>\n",
       "      <td>192.0</td>\n",
       "      <td>0.0</td>\n",
       "      <td>978.4</td>\n",
       "      <td>825.5</td>\n",
       "      <td>360</td>\n",
       "      <td>44.30</td>\n",
       "    </tr>\n",
       "  </tbody>\n",
       "</table>\n",
       "</div>"
      ],
      "text/plain": [
       "   Cement  Blast Furnace Slag  Fly Ash  Water  Superplasticizer  \\\n",
       "0   540.0                 0.0      0.0  162.0               2.5   \n",
       "1   540.0                 0.0      0.0  162.0               2.5   \n",
       "2   332.5               142.5      0.0  228.0               0.0   \n",
       "3   332.5               142.5      0.0  228.0               0.0   \n",
       "4   198.6               132.4      0.0  192.0               0.0   \n",
       "\n",
       "   Coarse Aggregate  Fine Aggregate  Age  Strength  \n",
       "0            1040.0           676.0   28     79.99  \n",
       "1            1055.0           676.0   28     61.89  \n",
       "2             932.0           594.0  270     40.27  \n",
       "3             932.0           594.0  365     41.05  \n",
       "4             978.4           825.5  360     44.30  "
      ]
     },
     "execution_count": 59,
     "metadata": {},
     "output_type": "execute_result"
    }
   ],
   "source": [
    "concrete_data = pd.read_csv('https://s3-api.us-geo.objectstorage.softlayer.net/cf-courses-data/CognitiveClass/DL0101EN/labs/data/concrete_data.csv')\n",
    "concrete_data.head()"
   ]
  },
  {
   "cell_type": "markdown",
   "id": "5a989852-2a4e-4ba7-a40d-8afffd960dd7",
   "metadata": {},
   "source": [
    "#### 1. Randomly split the data into a training and test sets by holding 30% of the data for testing."
   ]
  },
  {
   "cell_type": "code",
   "execution_count": 61,
   "id": "c67ec9cf-8165-4116-b055-92842e9623e7",
   "metadata": {
    "tags": []
   },
   "outputs": [],
   "source": [
    "# Getting the features and targets\n",
    "features = concrete_data.drop(columns='Strength', axis=1)\n",
    "Y = concrete_data['Strength']\n",
    "\n",
    "features = (features - features.mean()) / features.std()\n",
    "\n",
    "n_cols = features.shape[1] # number of predictors\n",
    "\n",
    "x_train, x_test, y_train, y_test = train_test_split(features, Y, test_size=0.3)\n"
   ]
  },
  {
   "cell_type": "markdown",
   "id": "991a6d85-91c2-497a-a4cc-6eb3fb425aee",
   "metadata": {},
   "source": [
    "#### 2. Train the model on the training data using 50 epochs."
   ]
  },
  {
   "cell_type": "code",
   "execution_count": 62,
   "id": "a5d8bfd6-c46a-4d8d-aeb6-4c313024b6a7",
   "metadata": {
    "tags": []
   },
   "outputs": [
    {
     "data": {
      "text/plain": [
       "<keras.models.Sequential at 0x7fc9262d33d0>"
      ]
     },
     "execution_count": 62,
     "metadata": {},
     "output_type": "execute_result"
    }
   ],
   "source": [
    "def regression_model():\n",
    "    # create model\n",
    "    model = Sequential()\n",
    "    #One hidden layer of 10 nodes, and a ReLU activation function \n",
    "    model.add(Dense(10, activation='relu', input_shape=(n_cols,))) \n",
    "    model.add(Dense(1))\n",
    "    \n",
    "    # Use the adam optimizer and the mean squared error as the loss function.\n",
    "    model.compile(optimizer='adam', loss='mean_squared_error')\n",
    "    return model\n",
    "\n",
    "model = regression_model()\n",
    "model"
   ]
  },
  {
   "cell_type": "markdown",
   "id": "a7c552bd-a7ac-428d-9afc-2dc3235a9221",
   "metadata": {},
   "source": [
    "#### 2. Train the model on the training data using 50 epochs."
   ]
  },
  {
   "cell_type": "code",
   "execution_count": 63,
   "id": "38d9e988-e442-46dd-85a0-eae91362003b",
   "metadata": {
    "tags": []
   },
   "outputs": [
    {
     "name": "stdout",
     "output_type": "stream",
     "text": [
      "Epoch 1/50\n",
      " - 0s - loss: 1576.3267\n",
      "Epoch 2/50\n",
      " - 0s - loss: 1559.9936\n",
      "Epoch 3/50\n",
      " - 0s - loss: 1544.2285\n",
      "Epoch 4/50\n",
      " - 0s - loss: 1528.3905\n",
      "Epoch 5/50\n",
      " - 0s - loss: 1512.2920\n",
      "Epoch 6/50\n",
      " - 0s - loss: 1495.6140\n",
      "Epoch 7/50\n",
      " - 0s - loss: 1478.2074\n",
      "Epoch 8/50\n",
      " - 0s - loss: 1459.9721\n",
      "Epoch 9/50\n",
      " - 0s - loss: 1440.3237\n",
      "Epoch 10/50\n",
      " - 0s - loss: 1419.9032\n",
      "Epoch 11/50\n",
      " - 0s - loss: 1397.8858\n",
      "Epoch 12/50\n",
      " - 0s - loss: 1374.8616\n",
      "Epoch 13/50\n",
      " - 0s - loss: 1350.5342\n",
      "Epoch 14/50\n",
      " - 0s - loss: 1324.9192\n",
      "Epoch 15/50\n",
      " - 0s - loss: 1298.0854\n",
      "Epoch 16/50\n",
      " - 0s - loss: 1270.5690\n",
      "Epoch 17/50\n",
      " - 0s - loss: 1240.9877\n",
      "Epoch 18/50\n",
      " - 0s - loss: 1211.3708\n",
      "Epoch 19/50\n",
      " - 0s - loss: 1180.3258\n",
      "Epoch 20/50\n",
      " - 0s - loss: 1149.4572\n",
      "Epoch 21/50\n",
      " - 0s - loss: 1117.0178\n",
      "Epoch 22/50\n",
      " - 0s - loss: 1084.8392\n",
      "Epoch 23/50\n",
      " - 0s - loss: 1052.0015\n",
      "Epoch 24/50\n",
      " - 0s - loss: 1018.7609\n",
      "Epoch 25/50\n",
      " - 0s - loss: 985.4326\n",
      "Epoch 26/50\n",
      " - 0s - loss: 951.9779\n",
      "Epoch 27/50\n",
      " - 0s - loss: 918.7926\n",
      "Epoch 28/50\n",
      " - 0s - loss: 885.5512\n",
      "Epoch 29/50\n",
      " - 0s - loss: 852.8870\n",
      "Epoch 30/50\n",
      " - 0s - loss: 820.8118\n",
      "Epoch 31/50\n",
      " - 0s - loss: 788.6264\n",
      "Epoch 32/50\n",
      " - 0s - loss: 757.5531\n",
      "Epoch 33/50\n",
      " - 0s - loss: 726.8976\n",
      "Epoch 34/50\n",
      " - 0s - loss: 697.3294\n",
      "Epoch 35/50\n",
      " - 0s - loss: 668.2524\n",
      "Epoch 36/50\n",
      " - 0s - loss: 640.6012\n",
      "Epoch 37/50\n",
      " - 0s - loss: 613.4647\n",
      "Epoch 38/50\n",
      " - 0s - loss: 587.6755\n",
      "Epoch 39/50\n",
      " - 0s - loss: 562.7735\n",
      "Epoch 40/50\n",
      " - 0s - loss: 538.5934\n",
      "Epoch 41/50\n",
      " - 0s - loss: 515.8710\n",
      "Epoch 42/50\n",
      " - 0s - loss: 493.9703\n",
      "Epoch 43/50\n",
      " - 0s - loss: 473.2326\n",
      "Epoch 44/50\n",
      " - 0s - loss: 454.0759\n",
      "Epoch 45/50\n",
      " - 0s - loss: 435.4440\n",
      "Epoch 46/50\n",
      " - 0s - loss: 418.0873\n",
      "Epoch 47/50\n",
      " - 0s - loss: 401.9321\n",
      "Epoch 48/50\n",
      " - 0s - loss: 386.4413\n",
      "Epoch 49/50\n",
      " - 0s - loss: 372.2413\n",
      "Epoch 50/50\n",
      " - 0s - loss: 358.6639\n"
     ]
    },
    {
     "data": {
      "text/plain": [
       "<keras.callbacks.History at 0x7fc9262d3550>"
      ]
     },
     "execution_count": 63,
     "metadata": {},
     "output_type": "execute_result"
    }
   ],
   "source": [
    "model.fit(x_train, y_train, epochs=50, verbose=2)"
   ]
  },
  {
   "cell_type": "markdown",
   "id": "9ac7c7de-722e-4ec9-84c4-3280d6022d91",
   "metadata": {},
   "source": [
    "#### 3. Evaluate the model on the test data and compute the mean squared error between the predicted concrete strength and the actual concrete strength."
   ]
  },
  {
   "cell_type": "code",
   "execution_count": 64,
   "id": "dac4db75-f1e0-4bc0-a2de-74a79833bddd",
   "metadata": {
    "tags": []
   },
   "outputs": [
    {
     "name": "stdout",
     "output_type": "stream",
     "text": [
      "15.798754999876795\n"
     ]
    }
   ],
   "source": [
    "predictions = model.predict(x_test)\n",
    "MAE =  metrics.mean_absolute_error(y_test, predictions)\n",
    "print(MAE)"
   ]
  },
  {
   "cell_type": "markdown",
   "id": "5b73f21f-5e93-4fee-a3b5-ddaeb14a0d0b",
   "metadata": {},
   "source": [
    "#### 4. Repeat steps 1 - 3, 50 times, i.e., create a list of 50 mean squared errors."
   ]
  },
  {
   "cell_type": "code",
   "execution_count": 65,
   "id": "6addd9c1-b785-433d-b8d2-c6bd076d2f87",
   "metadata": {
    "tags": []
   },
   "outputs": [
    {
     "name": "stdout",
     "output_type": "stream",
     "text": [
      "[10.194701387349841, 9.442462728062107, 8.881074065915204, 8.325766450332592, 7.906546805174991, 7.22224119278991, 6.91054704783418, 6.653526413186082, 6.152807007576655, 6.268683466124303, 6.052534677449939, 5.773929232193042, 5.582777055413207, 5.092437293660679, 5.474677126801129, 5.433659321868304, 5.521908234778346, 5.279788445222724, 5.583608286280462, 5.464137976316186, 4.659083786134195, 5.223400725948001, 5.107630646591433, 4.884239975024967, 4.983075872871868, 4.9371457757918975, 5.607880339113254, 4.966170038636834, 4.904358647170577, 4.944357975493744, 4.9512697805633055, 5.069479215677502, 5.068636115268596, 5.120857477342426, 5.149600323797429, 5.0692069659186805, 5.3808348155716095, 5.196819080797213, 5.143390787797453, 5.121358623072553, 5.515164285307948, 4.8366695058384375, 5.2461995156297405, 5.026565174979299, 5.254655561045922, 4.919743517347911, 5.1979855546056255, 5.122334373498811, 5.137457205516235, 4.945473394609964]\n"
     ]
    }
   ],
   "source": [
    "MAEs = []\n",
    "for n in range(50): \n",
    "    x_train, x_test, y_train, y_test = train_test_split(features, Y, test_size=0.3)\n",
    "    model.fit(x_train, y_train, epochs=50, verbose=0)\n",
    "    predictions = model.predict(x_test)\n",
    "    MAEs.append(metrics.mean_absolute_error(y_test, predictions))\n",
    "    \n",
    "print(MAEs)    "
   ]
  },
  {
   "cell_type": "markdown",
   "id": "b47c3bbc-3c48-4c76-a26b-44b1b4621446",
   "metadata": {
    "tags": []
   },
   "source": [
    "#### 5. Report the mean and the standard deviation of the mean squared errors."
   ]
  },
  {
   "cell_type": "code",
   "execution_count": 68,
   "id": "fa5b37e1-3123-4c80-8cc4-c53610bdb262",
   "metadata": {
    "tags": []
   },
   "outputs": [
    {
     "name": "stdout",
     "output_type": "stream",
     "text": [
      "Mean of mean squared errors:5.718177185425865 \n",
      "Standard deviation of mean squared errors:1.2205812457213703 \n"
     ]
    }
   ],
   "source": [
    "np_array = np.array(MAEs)\n",
    "print(f\"Mean of mean squared errors:{np.mean(np_array)} \")\n",
    "print(f\"Standard deviation of mean squared errors:{np.std(np_array)} \")"
   ]
  },
  {
   "cell_type": "markdown",
   "id": "bd8d3877-178d-4813-971e-602f2ac31b63",
   "metadata": {},
   "source": [
    "### How does the mean of the mean squared errors compare to that from Step A?\n"
   ]
  },
  {
   "cell_type": "markdown",
   "id": "7f19f51f-9c32-4a02-983d-27bf4186dc2a",
   "metadata": {},
   "source": [
    "Step A:\n",
    "\n",
    "- Mean of mean squared errors:5.57246862771433 \n",
    "- Standard deviation of mean squared errors:0.7217945033478287 \n",
    "\n",
    "Step B:\n",
    " - Mean of mean squared errors:5.718177185425865 \n",
    " - Standard deviation of mean squared errors:1.2205812457213703 \n",
    "\n",
    "Not a big change"
   ]
  },
  {
   "cell_type": "code",
   "execution_count": null,
   "id": "aaab1540-72a5-4456-9882-c403c44df41a",
   "metadata": {},
   "outputs": [],
   "source": []
  }
 ],
 "metadata": {
  "kernelspec": {
   "display_name": "Python",
   "language": "python",
   "name": "conda-env-python-py"
  },
  "language_info": {
   "codemirror_mode": {
    "name": "ipython",
    "version": 3
   },
   "file_extension": ".py",
   "mimetype": "text/x-python",
   "name": "python",
   "nbconvert_exporter": "python",
   "pygments_lexer": "ipython3",
   "version": "3.7.12"
  }
 },
 "nbformat": 4,
 "nbformat_minor": 5
}
