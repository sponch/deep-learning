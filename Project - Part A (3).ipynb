{
 "cells": [
  {
   "cell_type": "markdown",
   "id": "2beecde0-e6b5-4124-80aa-ea2d98999dab",
   "metadata": {},
   "source": [
    "## B. Normalize the data (5 marks) \n",
    "\n",
    "Repeat Part A but use a normalized version of the data. Recall that one way to normalize the data is by subtracting the mean from the individual predictors and dividing by the standard deviation.\n",
    "\n",
    "\n"
   ]
  },
  {
   "cell_type": "markdown",
   "id": "5bedab8b-37d8-4a2f-bbc1-59215029020b",
   "metadata": {},
   "source": [
    "## Steps"
   ]
  },
  {
   "cell_type": "markdown",
   "id": "485a13c2-3170-448c-82c8-0e1468e08fdb",
   "metadata": {
    "tags": []
   },
   "source": [
    "Import all the libraries"
   ]
  },
  {
   "cell_type": "code",
   "execution_count": 4,
   "id": "fd172024-11b5-4259-bcb8-73c147ba268d",
   "metadata": {
    "tags": []
   },
   "outputs": [],
   "source": [
    "import pandas as pd\n",
    "import numpy as np\n",
    "import sklearn.metrics as metrics\n",
    "from sklearn.model_selection import train_test_split\n",
    "from keras.models import Sequential\n",
    "from keras.layers import Dense\n",
    "\n",
    "import warnings\n",
    "warnings.simplefilter('ignore', FutureWarning)"
   ]
  },
  {
   "cell_type": "markdown",
   "id": "84aa2ae0-e767-4c6a-8518-af3fee11e4dd",
   "metadata": {},
   "source": [
    "## Reading the data"
   ]
  },
  {
   "cell_type": "code",
   "execution_count": 5,
   "id": "15a79299-3e3d-4a8c-a837-e7ee6e1fc0a4",
   "metadata": {
    "tags": []
   },
   "outputs": [
    {
     "data": {
      "text/html": [
       "<div>\n",
       "<style scoped>\n",
       "    .dataframe tbody tr th:only-of-type {\n",
       "        vertical-align: middle;\n",
       "    }\n",
       "\n",
       "    .dataframe tbody tr th {\n",
       "        vertical-align: top;\n",
       "    }\n",
       "\n",
       "    .dataframe thead th {\n",
       "        text-align: right;\n",
       "    }\n",
       "</style>\n",
       "<table border=\"1\" class=\"dataframe\">\n",
       "  <thead>\n",
       "    <tr style=\"text-align: right;\">\n",
       "      <th></th>\n",
       "      <th>Cement</th>\n",
       "      <th>Blast Furnace Slag</th>\n",
       "      <th>Fly Ash</th>\n",
       "      <th>Water</th>\n",
       "      <th>Superplasticizer</th>\n",
       "      <th>Coarse Aggregate</th>\n",
       "      <th>Fine Aggregate</th>\n",
       "      <th>Age</th>\n",
       "      <th>Strength</th>\n",
       "    </tr>\n",
       "  </thead>\n",
       "  <tbody>\n",
       "    <tr>\n",
       "      <th>0</th>\n",
       "      <td>540.0</td>\n",
       "      <td>0.0</td>\n",
       "      <td>0.0</td>\n",
       "      <td>162.0</td>\n",
       "      <td>2.5</td>\n",
       "      <td>1040.0</td>\n",
       "      <td>676.0</td>\n",
       "      <td>28</td>\n",
       "      <td>79.99</td>\n",
       "    </tr>\n",
       "    <tr>\n",
       "      <th>1</th>\n",
       "      <td>540.0</td>\n",
       "      <td>0.0</td>\n",
       "      <td>0.0</td>\n",
       "      <td>162.0</td>\n",
       "      <td>2.5</td>\n",
       "      <td>1055.0</td>\n",
       "      <td>676.0</td>\n",
       "      <td>28</td>\n",
       "      <td>61.89</td>\n",
       "    </tr>\n",
       "    <tr>\n",
       "      <th>2</th>\n",
       "      <td>332.5</td>\n",
       "      <td>142.5</td>\n",
       "      <td>0.0</td>\n",
       "      <td>228.0</td>\n",
       "      <td>0.0</td>\n",
       "      <td>932.0</td>\n",
       "      <td>594.0</td>\n",
       "      <td>270</td>\n",
       "      <td>40.27</td>\n",
       "    </tr>\n",
       "    <tr>\n",
       "      <th>3</th>\n",
       "      <td>332.5</td>\n",
       "      <td>142.5</td>\n",
       "      <td>0.0</td>\n",
       "      <td>228.0</td>\n",
       "      <td>0.0</td>\n",
       "      <td>932.0</td>\n",
       "      <td>594.0</td>\n",
       "      <td>365</td>\n",
       "      <td>41.05</td>\n",
       "    </tr>\n",
       "    <tr>\n",
       "      <th>4</th>\n",
       "      <td>198.6</td>\n",
       "      <td>132.4</td>\n",
       "      <td>0.0</td>\n",
       "      <td>192.0</td>\n",
       "      <td>0.0</td>\n",
       "      <td>978.4</td>\n",
       "      <td>825.5</td>\n",
       "      <td>360</td>\n",
       "      <td>44.30</td>\n",
       "    </tr>\n",
       "  </tbody>\n",
       "</table>\n",
       "</div>"
      ],
      "text/plain": [
       "   Cement  Blast Furnace Slag  Fly Ash  Water  Superplasticizer  \\\n",
       "0   540.0                 0.0      0.0  162.0               2.5   \n",
       "1   540.0                 0.0      0.0  162.0               2.5   \n",
       "2   332.5               142.5      0.0  228.0               0.0   \n",
       "3   332.5               142.5      0.0  228.0               0.0   \n",
       "4   198.6               132.4      0.0  192.0               0.0   \n",
       "\n",
       "   Coarse Aggregate  Fine Aggregate  Age  Strength  \n",
       "0            1040.0           676.0   28     79.99  \n",
       "1            1055.0           676.0   28     61.89  \n",
       "2             932.0           594.0  270     40.27  \n",
       "3             932.0           594.0  365     41.05  \n",
       "4             978.4           825.5  360     44.30  "
      ]
     },
     "execution_count": 5,
     "metadata": {},
     "output_type": "execute_result"
    }
   ],
   "source": [
    "concrete_data = pd.read_csv('https://s3-api.us-geo.objectstorage.softlayer.net/cf-courses-data/CognitiveClass/DL0101EN/labs/data/concrete_data.csv')\n",
    "concrete_data.head()"
   ]
  },
  {
   "cell_type": "markdown",
   "id": "5a989852-2a4e-4ba7-a40d-8afffd960dd7",
   "metadata": {},
   "source": [
    "#### 1. Randomly split the data into a training and test sets by holding 30% of the data for testing."
   ]
  },
  {
   "cell_type": "code",
   "execution_count": 6,
   "id": "c67ec9cf-8165-4116-b055-92842e9623e7",
   "metadata": {
    "tags": []
   },
   "outputs": [],
   "source": [
    "# Getting the features and targets\n",
    "features = concrete_data.drop(columns='Strength', axis=1)\n",
    "Y = concrete_data['Strength']\n",
    "\n",
    "n_cols = features.shape[1] # number of predictors\n",
    "\n",
    "x_train, x_test, y_train, y_test = train_test_split(features, Y, test_size=0.3)\n"
   ]
  },
  {
   "cell_type": "markdown",
   "id": "991a6d85-91c2-497a-a4cc-6eb3fb425aee",
   "metadata": {},
   "source": [
    "#### 2. Train the model on the training data using 50 epochs."
   ]
  },
  {
   "cell_type": "code",
   "execution_count": 10,
   "id": "a5d8bfd6-c46a-4d8d-aeb6-4c313024b6a7",
   "metadata": {
    "tags": []
   },
   "outputs": [
    {
     "data": {
      "text/plain": [
       "<keras.models.Sequential at 0x7f2c0c7a8790>"
      ]
     },
     "execution_count": 10,
     "metadata": {},
     "output_type": "execute_result"
    }
   ],
   "source": [
    "def regression_model():\n",
    "    # create model\n",
    "    model = Sequential()\n",
    "    #One hidden layer of 10 nodes, and a ReLU activation function \n",
    "    model.add(Dense(10, activation='relu', input_shape=(n_cols,))) \n",
    "    model.add(Dense(1))\n",
    "    \n",
    "    # Use the adam optimizer and the mean squared error as the loss function.\n",
    "    model.compile(optimizer='adam', loss='mean_squared_error')\n",
    "    return model\n",
    "\n",
    "model = regression_model()\n",
    "model"
   ]
  },
  {
   "cell_type": "markdown",
   "id": "a7c552bd-a7ac-428d-9afc-2dc3235a9221",
   "metadata": {},
   "source": [
    "#### 2. Train the model on the training data using 50 epochs."
   ]
  },
  {
   "cell_type": "code",
   "execution_count": 9,
   "id": "38d9e988-e442-46dd-85a0-eae91362003b",
   "metadata": {
    "tags": []
   },
   "outputs": [
    {
     "name": "stdout",
     "output_type": "stream",
     "text": [
      "Epoch 1/50\n",
      " - 0s - loss: 233.3647\n",
      "Epoch 2/50\n",
      " - 0s - loss: 227.4503\n",
      "Epoch 3/50\n",
      " - 0s - loss: 222.6511\n",
      "Epoch 4/50\n",
      " - 0s - loss: 217.8255\n",
      "Epoch 5/50\n",
      " - 0s - loss: 213.1527\n",
      "Epoch 6/50\n",
      " - 0s - loss: 208.9853\n",
      "Epoch 7/50\n",
      " - 0s - loss: 204.5075\n",
      "Epoch 8/50\n",
      " - 0s - loss: 200.9360\n",
      "Epoch 9/50\n",
      " - 0s - loss: 196.5210\n",
      "Epoch 10/50\n",
      " - 0s - loss: 193.3216\n",
      "Epoch 11/50\n",
      " - 0s - loss: 191.3656\n",
      "Epoch 12/50\n",
      " - 0s - loss: 187.1829\n",
      "Epoch 13/50\n",
      " - 0s - loss: 184.0175\n",
      "Epoch 14/50\n",
      " - 0s - loss: 181.3513\n",
      "Epoch 15/50\n",
      " - 0s - loss: 179.2464\n",
      "Epoch 16/50\n",
      " - 0s - loss: 176.4895\n",
      "Epoch 17/50\n",
      " - 0s - loss: 174.1184\n",
      "Epoch 18/50\n",
      " - 0s - loss: 171.5972\n",
      "Epoch 19/50\n",
      " - 0s - loss: 169.5593\n",
      "Epoch 20/50\n",
      " - 0s - loss: 167.2368\n",
      "Epoch 21/50\n",
      " - 0s - loss: 165.7677\n",
      "Epoch 22/50\n",
      " - 0s - loss: 164.2147\n",
      "Epoch 23/50\n",
      " - 0s - loss: 162.2411\n",
      "Epoch 24/50\n",
      " - 0s - loss: 160.8072\n",
      "Epoch 25/50\n",
      " - 0s - loss: 159.4338\n",
      "Epoch 26/50\n",
      " - 0s - loss: 157.6096\n",
      "Epoch 27/50\n",
      " - 0s - loss: 157.2845\n",
      "Epoch 28/50\n",
      " - 0s - loss: 155.2125\n",
      "Epoch 29/50\n",
      " - 0s - loss: 154.7454\n",
      "Epoch 30/50\n",
      " - 0s - loss: 153.5881\n",
      "Epoch 31/50\n",
      " - 0s - loss: 151.9639\n",
      "Epoch 32/50\n",
      " - 0s - loss: 150.3540\n",
      "Epoch 33/50\n",
      " - 0s - loss: 150.1650\n",
      "Epoch 34/50\n",
      " - 0s - loss: 149.8434\n",
      "Epoch 35/50\n",
      " - 0s - loss: 148.0090\n",
      "Epoch 36/50\n",
      " - 0s - loss: 148.3962\n",
      "Epoch 37/50\n",
      " - 0s - loss: 146.2557\n",
      "Epoch 38/50\n",
      " - 0s - loss: 146.1274\n",
      "Epoch 39/50\n",
      " - 0s - loss: 144.9502\n",
      "Epoch 40/50\n",
      " - 0s - loss: 144.5880\n",
      "Epoch 41/50\n",
      " - 0s - loss: 144.1607\n",
      "Epoch 42/50\n",
      " - 0s - loss: 143.1885\n",
      "Epoch 43/50\n",
      " - 0s - loss: 142.1928\n",
      "Epoch 44/50\n",
      " - 0s - loss: 142.2093\n",
      "Epoch 45/50\n",
      " - 0s - loss: 142.6583\n",
      "Epoch 46/50\n",
      " - 0s - loss: 140.9528\n",
      "Epoch 47/50\n",
      " - 0s - loss: 140.0277\n",
      "Epoch 48/50\n",
      " - 0s - loss: 140.4482\n",
      "Epoch 49/50\n",
      " - 0s - loss: 139.7233\n",
      "Epoch 50/50\n",
      " - 0s - loss: 139.0523\n"
     ]
    },
    {
     "data": {
      "text/plain": [
       "<keras.callbacks.History at 0x7f2c0d8171d0>"
      ]
     },
     "execution_count": 9,
     "metadata": {},
     "output_type": "execute_result"
    }
   ],
   "source": [
    "model.fit(x_train, y_train, epochs=50, verbose=2)"
   ]
  },
  {
   "cell_type": "markdown",
   "id": "9ac7c7de-722e-4ec9-84c4-3280d6022d91",
   "metadata": {},
   "source": [
    "#### 3. Evaluate the model on the test data and compute the mean squared error between the predicted concrete strength and the actual concrete strength."
   ]
  },
  {
   "cell_type": "code",
   "execution_count": 11,
   "id": "dac4db75-f1e0-4bc0-a2de-74a79833bddd",
   "metadata": {
    "tags": []
   },
   "outputs": [
    {
     "name": "stdout",
     "output_type": "stream",
     "text": [
      "74.34055916301641\n"
     ]
    }
   ],
   "source": [
    "predictions = model.predict(x_test)\n",
    "MAE =  metrics.mean_absolute_error(y_test, predictions)\n",
    "print(MAE)"
   ]
  },
  {
   "cell_type": "markdown",
   "id": "5b73f21f-5e93-4fee-a3b5-ddaeb14a0d0b",
   "metadata": {},
   "source": [
    "#### 4. Repeat steps 1 - 3, 50 times, i.e., create a list of 50 mean squared errors."
   ]
  },
  {
   "cell_type": "code",
   "execution_count": 14,
   "id": "6addd9c1-b785-433d-b8d2-c6bd076d2f87",
   "metadata": {
    "tags": []
   },
   "outputs": [
    {
     "name": "stdout",
     "output_type": "stream",
     "text": [
      "[4.878976874120027, 5.5313539442506805, 4.708177427520258, 5.116909081048564, 5.13383455578949, 5.284881516737459, 5.578062122678293, 5.0052069512154285, 5.022082431015459, 5.154341514797273, 5.191015034123146, 4.906805362577963, 5.2560747014666065, 5.360001160118572, 5.082212852428646, 4.958514740706262, 5.183204049292505, 5.2580480923698945, 4.911879587019146, 5.1645232617122065, 4.8111113577444575, 4.97471034327757, 5.248036788489826, 5.020745691157467, 5.0463353151488075, 5.2074237960519145, 5.149576076678088, 4.96759458720877, 5.4999388330229655, 5.252850342722772, 5.170197971152642, 4.830058406101462, 4.94609219548, 5.182126600024769, 5.121859536772793, 5.24169527943466, 5.286187996015579, 5.604780411365348, 5.26544742399049, 4.940108839115279, 5.497546282848494, 4.951950344283217, 5.5288763287923866, 5.199163020112367, 5.2321551007206, 5.192792982175512, 5.153762873337878, 5.476094588245774, 5.128714578190282, 5.121430675790533]\n"
     ]
    }
   ],
   "source": [
    "MAEs = []\n",
    "for n in range(50): \n",
    "    x_train, x_test, y_train, y_test = train_test_split(features, Y, test_size=0.3, random_state=n)\n",
    "    model.fit(x_train, y_train, epochs=50, verbose=0)\n",
    "    predictions = model.predict(x_test)\n",
    "    MAEs.append(metrics.mean_absolute_error(y_test, predictions))\n",
    "    \n",
    "print(MAEs)    "
   ]
  },
  {
   "cell_type": "markdown",
   "id": "b47c3bbc-3c48-4c76-a26b-44b1b4621446",
   "metadata": {
    "tags": []
   },
   "source": [
    "#### 5. Report the mean and the standard deviation of the mean squared errors."
   ]
  },
  {
   "cell_type": "code",
   "execution_count": 13,
   "id": "fa5b37e1-3123-4c80-8cc4-c53610bdb262",
   "metadata": {
    "tags": []
   },
   "outputs": [
    {
     "name": "stdout",
     "output_type": "stream",
     "text": [
      "Mean of mean squared errors:5.57246862771433 \n",
      "Standard deviation of mean squared errors:0.7217945033478287 \n"
     ]
    }
   ],
   "source": [
    "np_array = np.array(MAEs)\n",
    "print(f\"Mean of mean squared errors:{np.mean(np_array)} \")\n",
    "print(f\"Standard deviation of mean squared errors:{np.std(np_array)} \")"
   ]
  },
  {
   "cell_type": "code",
   "execution_count": null,
   "id": "749d6478-8341-4370-ad4a-1221eed1b6f0",
   "metadata": {},
   "outputs": [],
   "source": [
    "\n"
   ]
  },
  {
   "cell_type": "code",
   "execution_count": null,
   "id": "99ec91a9-6ffc-4ab6-ba4b-87a44613f293",
   "metadata": {},
   "outputs": [],
   "source": []
  }
 ],
 "metadata": {
  "kernelspec": {
   "display_name": "Python",
   "language": "python",
   "name": "conda-env-python-py"
  },
  "language_info": {
   "codemirror_mode": {
    "name": "ipython",
    "version": 3
   },
   "file_extension": ".py",
   "mimetype": "text/x-python",
   "name": "python",
   "nbconvert_exporter": "python",
   "pygments_lexer": "ipython3",
   "version": "3.7.12"
  }
 },
 "nbformat": 4,
 "nbformat_minor": 5
}
